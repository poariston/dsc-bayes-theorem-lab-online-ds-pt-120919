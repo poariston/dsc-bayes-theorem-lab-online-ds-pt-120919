{
 "cells": [
  {
   "cell_type": "markdown",
   "metadata": {},
   "source": [
    "# Bayes' Theorem - Lab\n",
    "\n",
    "## Introduction\n",
    "\n",
    "In this lab, you'll practice Bayes' Theorem in some simple word problems. \n",
    "\n",
    "## Objectives\n",
    "In this lab you will be able to: \n",
    "\n",
    "- Use Bayes' theorem to determine the probability of specific events "
   ]
  },
  {
   "cell_type": "markdown",
   "metadata": {},
   "source": [
    "## Define a custom function for Bayes' theorem\n",
    "\n",
    "To start, write a function, `bayes()`, which takes in the probability of A, the probability of B, and the probability of B given A. From this, the function should then return the conditional probability of A, given that B is true."
   ]
  },
  {
   "cell_type": "code",
   "execution_count": 2,
   "metadata": {},
   "outputs": [],
   "source": [
    "def bayes(P_a, P_b, P_b_given_a):\n",
    "    # Your code here\n",
    "    #P_a_given_b * P_b = P_b_given_a * P_a = P(Intersection a & b)\n",
    "    P_a_given_b = P_b_given_a * P_a / P_b\n",
    "    return P_a_given_b"
   ]
  },
  {
   "cell_type": "markdown",
   "metadata": {},
   "source": [
    "## Skin Cancer\n",
    "\n",
    "After a physical exam, a doctor observes a blemish on a client's arm. The doctor is concerned that the blemish could be cancerous, but tells the patient to be calm and that it's probably benign. Of those with skin cancer, 100% have such blemishes. However, 20% of those without skin cancer also have such blemishes. If 15% of the population has skin cancer, what's the probability that this patient has skin cancer? \n",
    "\n",
    "> Hint: Be sure to calculate the overall rate of blemishes across the entire population."
   ]
  },
  {
   "cell_type": "code",
   "execution_count": 3,
   "metadata": {},
   "outputs": [
    {
     "name": "stdout",
     "output_type": "stream",
     "text": [
      "P_a_given_b * P_b = P_b_given_a * P_a = P(Intersection a & b)\n",
      "0.46875  *  0.32  =  1  *  0.15  = P(Intersection a & b)\n"
     ]
    }
   ],
   "source": [
    "# Your code here\n",
    "# a = person has skin cancer\n",
    "# b = person has blemish\n",
    "P_a = 0.15\n",
    "# P_b = Pcancer*Pblemish_given_cancer + Pnotcancer*Pblemish_given_nocancer\n",
    "P_b = 0.15*1 + .85*.2\n",
    "P_b_given_a = 1\n",
    "P_a_given_b = bayes(P_a, P_b, P_b_given_a)\n",
    "print('P_a_given_b * P_b = P_b_given_a * P_a = P(Intersection a & b)')\n",
    "print(P_a_given_b,' * ',P_b,' = ',P_b_given_a,' * ',P_a,' = P(Intersection a & b)')"
   ]
  },
  {
   "cell_type": "markdown",
   "metadata": {},
   "source": [
    "## Children (I) \n",
    "\n",
    "A couple has two children, the older of which is a boy. What is the probability that they have two boys?"
   ]
  },
  {
   "cell_type": "code",
   "execution_count": 4,
   "metadata": {},
   "outputs": [
    {
     "name": "stdout",
     "output_type": "stream",
     "text": [
      "P_a_given_b * P_b = P_b_given_a * P_a = P(Intersection a & b)\n",
      "0.5  *  0.5  =  1  *  0.25  = P(Intersection a & b)\n"
     ]
    }
   ],
   "source": [
    "# Your solution P(2boys|older child is a boy)\n",
    "# a = 2 boys\n",
    "# b = older is boy\n",
    "P_a = .25\n",
    "P_b = .5\n",
    "P_b_given_a = 1\n",
    "P_a_given_b = bayes(P_a, P_b, P_b_given_a)\n",
    "print('P_a_given_b * P_b = P_b_given_a * P_a = P(Intersection a & b)')\n",
    "print(P_a_given_b,' * ',P_b,' = ',P_b_given_a,' * ',P_a,' = P(Intersection a & b)')"
   ]
  },
  {
   "cell_type": "markdown",
   "metadata": {},
   "source": [
    "## Children  (II)\n",
    "\n",
    "A couple has two children, one of which is a boy. What is the probability that they have two boys?"
   ]
  },
  {
   "cell_type": "code",
   "execution_count": 5,
   "metadata": {},
   "outputs": [
    {
     "name": "stdout",
     "output_type": "stream",
     "text": [
      "P_a_given_b * P_b = P_b_given_a * P_a = P(Intersection a & b)\n",
      "0.3333333333333333  *  0.75  =  1  *  0.25  = P(Intersection a & b)\n"
     ]
    }
   ],
   "source": [
    "# Your solution P(2boys|1 of 2 children is a boy)\n",
    "# a = 2 boys\n",
    "# b = 1 of 2 children is a boy\n",
    "P_a = .25\n",
    "P_b = .75\n",
    "P_b_given_a = 1\n",
    "P_a_given_b = bayes(P_a, P_b, P_b_given_a)\n",
    "print('P_a_given_b * P_b = P_b_given_a * P_a = P(Intersection a & b)')\n",
    "print(P_a_given_b,' * ',P_b,' = ',P_b_given_a,' * ',P_a,' = P(Intersection a & b)')"
   ]
  },
  {
   "cell_type": "markdown",
   "metadata": {},
   "source": [
    "## A diagnostic test\n",
    "\n",
    "A diagnostic test is advertised as being 99% accurate \n",
    "\n",
    "* If a patient has the disease, they  will test positive 99% of the time \n",
    "\n",
    "* If they don't have the disease, they will test negative 99% of the time  \n",
    "\n",
    "* 1% of all people have this disease \n",
    "\n",
    "If a patient tests positive, what is the probability that they actually have the disease?"
   ]
  },
  {
   "cell_type": "code",
   "execution_count": 6,
   "metadata": {},
   "outputs": [
    {
     "name": "stdout",
     "output_type": "stream",
     "text": [
      "P_a_given_b * P_b = P_b_given_a * P_a = P(Intersection a & b)\n",
      "0.5  *  0.0198  =  0.99  *  0.01  = P(Intersection a & b)\n"
     ]
    }
   ],
   "source": [
    "# Your solution P(Disease | positive test)\n",
    "# a=disease\n",
    "# b=positive test\n",
    "P_a = .01\n",
    "# P_b =Pdisease * Ppos_if_disease + Pnotsick * Ppos_if_notsick\n",
    "P_b = .01  *  .99   +  .99  *  .01\n",
    "P_b_given_a = .99\n",
    "\n",
    "P_a_given_b = bayes(P_a, P_b, P_b_given_a)\n",
    "print('P_a_given_b * P_b = P_b_given_a * P_a = P(Intersection a & b)')\n",
    "print(P_a_given_b,' * ',P_b,' = ',P_b_given_a,' * ',P_a,' = P(Intersection a & b)')"
   ]
  },
  {
   "cell_type": "markdown",
   "metadata": {},
   "source": [
    "## Summary \n",
    "\n",
    "In this lab, you practiced a few simple examples of Bayesian logic and how you can add prior information to update your beliefs about the chance of events."
   ]
  }
 ],
 "metadata": {
  "kernelspec": {
   "display_name": "Python 3",
   "language": "python",
   "name": "python3"
  },
  "language_info": {
   "codemirror_mode": {
    "name": "ipython",
    "version": 3
   },
   "file_extension": ".py",
   "mimetype": "text/x-python",
   "name": "python",
   "nbconvert_exporter": "python",
   "pygments_lexer": "ipython3",
   "version": "3.6.9"
  }
 },
 "nbformat": 4,
 "nbformat_minor": 2
}
